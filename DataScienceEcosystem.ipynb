{
 "cells": [
  {
   "cell_type": "markdown",
   "id": "60467032-89ae-414a-b2b3-c3b744235d03",
   "metadata": {},
   "source": [
    "<h1>Name: Peer-graded_Assignment_Submitting_My_Work<h1>"
   ]
  },
  {
   "cell_type": "markdown",
   "id": "5f8b635e-de9b-4a0e-b6a0-81d38aaa6dbe",
   "metadata": {},
   "source": [
    "<h1>Data Science Tools and Ecosystem<h1>"
   ]
  },
  {
   "cell_type": "markdown",
   "id": "c6ebadb5-289b-4d81-905f-ef71a741ca94",
   "metadata": {},
   "source": [
    "**Objectives:**\n",
    "<li>List popular languages that Data Scientists use.\n",
    "<li>List commonly used libraries used by Data Scientists.\n",
    "<li>Comment on Data Science tools."
   ]
  },
  {
   "cell_type": "markdown",
   "id": "2ade4a42-b4ee-4003-85ce-303be38d48c5",
   "metadata": {},
   "source": [
    "In this notebook, Data Science Tools and Ecosystem are summarized"
   ]
  },
  {
   "cell_type": "code",
   "execution_count": 1,
   "id": "42ac339a-33d2-4014-a1f7-0341335c8f8c",
   "metadata": {
    "tags": []
   },
   "outputs": [
    {
     "name": "stdout",
     "output_type": "stream",
     "text": [
      "Some of the popular languages that Data Scientists use are:  ['Python', 'R', 'SQL', 'Java', 'Julia', 'Scala', 'C/C++', 'JavaScript']\n"
     ]
    }
   ],
   "source": [
    "ordered_list=['Python','R','SQL','Java','Julia','Scala','C/C++','JavaScript']\n",
    "print(\"Some of the popular languages that Data Scientists use are: \", ordered_list)"
   ]
  },
  {
   "cell_type": "code",
   "execution_count": 2,
   "id": "34c3e768-8014-44ce-af43-121e9527e6a6",
   "metadata": {
    "tags": []
   },
   "outputs": [
    {
     "name": "stdout",
     "output_type": "stream",
     "text": [
      "Some of the commonly used libraries used by Data Scientists include: ['TensorFlow', 'NumPy', 'SciPy', 'Pandas', 'Matplotlib', 'Keras', 'SciKit-Learn']\n"
     ]
    }
   ],
   "source": [
    "ordered_list=['TensorFlow','NumPy','SciPy','Pandas','Matplotlib','Keras','SciKit-Learn']\n",
    "print(\"Some of the commonly used libraries used by Data Scientists include:\", ordered_list)"
   ]
  },
  {
   "cell_type": "markdown",
   "id": "c9836e52-580f-440d-b31c-7ac41416a0a4",
   "metadata": {},
   "source": [
    "|Data Science Tools|\n",
    "|------------------|\n",
    "|It is one of those data science tools which are specifically designed for statistical operation|\n",
    "|Apache Spark|\n",
    "|BigML|"
   ]
  },
  {
   "cell_type": "markdown",
   "id": "f392e661-c32d-415e-96df-d52c346e3aab",
   "metadata": {},
   "source": [
    "<h3>Below are a few examples of evaluating arithmetic expressions in Python<h3>"
   ]
  },
  {
   "cell_type": "code",
   "execution_count": 5,
   "id": "36bd3c26-d518-496e-bfce-79137c3120a3",
   "metadata": {
    "tags": []
   },
   "outputs": [
    {
     "data": {
      "text/plain": [
       "7"
      ]
     },
     "execution_count": 5,
     "metadata": {},
     "output_type": "execute_result"
    }
   ],
   "source": [
    "# Arithmetic operations\n",
    "code = compile(\"3 + 4\", \"<string>\", \"eval\")\n",
    "eval(code)\n",
    "# Result: 7"
   ]
  },
  {
   "cell_type": "code",
   "execution_count": 6,
   "id": "01290b9c-d3de-40cc-a7b3-5c07dd857eab",
   "metadata": {
    "tags": []
   },
   "outputs": [
    {
     "data": {
      "text/plain": [
       "30"
      ]
     },
     "execution_count": 6,
     "metadata": {},
     "output_type": "execute_result"
    }
   ],
   "source": [
    "code1 = compile(\"(8 + 7) * 2\", \"<string>\", \"eval\")\n",
    "eval(code1)\n",
    "# Result: 30"
   ]
  },
  {
   "cell_type": "code",
   "execution_count": 9,
   "id": "98c2a956-669a-4764-b5c0-dd0d7f3a1ec1",
   "metadata": {
    "tags": []
   },
   "outputs": [
    {
     "data": {
      "text/plain": [
       "38792.38608652676"
      ]
     },
     "execution_count": 9,
     "metadata": {},
     "output_type": "execute_result"
    }
   ],
   "source": [
    "import math\n",
    "# Volume of a sphere\n",
    "code2 = compile(\"4 / 3 * math.pi * math.pow(21, 3)\", \"<string>\", \"eval\")\n",
    "eval(code2)\n",
    "#Result: 38792.38608652676"
   ]
  },
  {
   "cell_type": "code",
   "execution_count": 10,
   "id": "d8e97eac-b593-48da-ab75-76048a9f569c",
   "metadata": {
    "tags": []
   },
   "outputs": [
    {
     "data": {
      "text/plain": [
       "19"
      ]
     },
     "execution_count": 10,
     "metadata": {},
     "output_type": "execute_result"
    }
   ],
   "source": [
    "(3*4)+7\n",
    "# Result: 19"
   ]
  },
  {
   "cell_type": "code",
   "execution_count": null,
   "id": "1e59a6f6-2e9c-4881-8ce5-1cf3b2a40d91",
   "metadata": {},
   "outputs": [],
   "source": [
    "days = 0\n",
    "hours = 0\n",
    "mins = 0\n",
    "\n",
    "time = 200\n",
    "#days = time / 1440\n",
    "leftover_minutes = time % 1440\n",
    "hours = leftover_minutes / 60\n",
    "#mins = time - (days*1440) - (hours*60)\n",
    "print(str(days) + \" days, \" + str(hours) + \" hours, \" + str(mins) +  \" mins. \")"
   ]
  },
  {
   "cell_type": "markdown",
   "id": "200f9195-2d57-47bd-a7ab-7101665f601d",
   "metadata": {},
   "source": [
    "<h2>Author:<h2>\n",
    "Vachan Padival"
   ]
  },
  {
   "cell_type": "code",
   "execution_count": null,
   "id": "da39f07d-f8f4-4cb7-9c41-cda9b83f55bc",
   "metadata": {},
   "outputs": [],
   "source": []
  }
 ],
 "metadata": {
  "kernelspec": {
   "display_name": "Python",
   "language": "python",
   "name": "conda-env-python-py"
  },
  "language_info": {
   "codemirror_mode": {
    "name": "ipython",
    "version": 3
   },
   "file_extension": ".py",
   "mimetype": "text/x-python",
   "name": "python",
   "nbconvert_exporter": "python",
   "pygments_lexer": "ipython3",
   "version": "3.7.12"
  }
 },
 "nbformat": 4,
 "nbformat_minor": 5
}
